{
 "cells": [
  {
   "cell_type": "markdown",
   "id": "c70155b9-d726-460a-9208-befc3c14da8f",
   "metadata": {},
   "source": [
    "This notebook is intended for developers who'd like to modify this repository"
   ]
  },
  {
   "cell_type": "code",
   "execution_count": 1,
   "id": "d5045eb8-605c-4e90-9f6d-7a2d9cec419b",
   "metadata": {
    "tags": []
   },
   "outputs": [
    {
     "name": "stdout",
     "output_type": "stream",
     "text": [
      "Installing or upgrading quarto -- this requires root access.\n",
      "  % Total    % Received % Xferd  Average Speed   Time    Time     Time  Current\n",
      "                                 Dload  Upload   Total   Spent    Left  Speed\n",
      "100    72  100    72    0     0    648      0 --:--:-- --:--:-- --:--:--   654\n",
      "100   114  100   114    0     0    570      0 --:--:-- --:--:-- --:--:--   570\n",
      "  0     0    0     0    0     0      0      0 --:--:--  0:00:05 --:--:--     0\n",
      "100 73.8M  100 73.8M    0     0  12.2M      0  0:00:06  0:00:06 --:--:--  134M\n",
      "Selecting previously unselected package quarto.\n",
      "(Reading database ... 78769 files and directories currently installed.)\n",
      "Preparing to unpack quarto-linux-amd64.deb ...\n",
      "Unpacking quarto (1.2.475) ...\n",
      "Setting up quarto (1.2.475) ...\n",
      "\u001b[33mWARNING: Running pip as the 'root' user can result in broken permissions and conflicting behaviour with the system package manager. It is recommended to use a virtual environment instead: https://pip.pypa.io/warnings/venv\u001b[0m\u001b[33m\n",
      "\u001b[0m"
     ]
    }
   ],
   "source": [
    "!pip install -Uqq nbdev\n",
    "!nbdev_install_quarto\n",
    "!pip install -q ."
   ]
  },
  {
   "cell_type": "code",
   "execution_count": null,
   "id": "9906e045-6477-4dea-ba70-dd137d1a1cc9",
   "metadata": {},
   "outputs": [],
   "source": []
  }
 ],
 "metadata": {
  "kernelspec": {
   "display_name": "Python 3 (ipykernel)",
   "language": "python",
   "name": "python3"
  },
  "language_info": {
   "codemirror_mode": {
    "name": "ipython",
    "version": 3
   },
   "file_extension": ".py",
   "mimetype": "text/x-python",
   "name": "python",
   "nbconvert_exporter": "python",
   "pygments_lexer": "ipython3",
   "version": "3.9.13"
  }
 },
 "nbformat": 4,
 "nbformat_minor": 5
}
