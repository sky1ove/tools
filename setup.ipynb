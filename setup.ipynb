{
 "cells": [
  {
   "cell_type": "code",
   "execution_count": 1,
   "id": "d5045eb8-605c-4e90-9f6d-7a2d9cec419b",
   "metadata": {
    "tags": []
   },
   "outputs": [
    {
     "name": "stdout",
     "output_type": "stream",
     "text": [
      "\u001b[33mWARNING: Running pip as the 'root' user can result in broken permissions and conflicting behaviour with the system package manager. It is recommended to use a virtual environment instead: https://pip.pypa.io/warnings/venv\u001b[0m\u001b[33m\n",
      "\u001b[0mInstalling or upgrading quarto -- this requires root access.\n",
      "  % Total    % Received % Xferd  Average Speed   Time    Time     Time  Current\n",
      "                                 Dload  Upload   Total   Spent    Left  Speed\n",
      "100    72  100    72    0     0    734      0 --:--:-- --:--:-- --:--:--   734\n",
      "100   114  100   114    0     0    820      0 --:--:-- --:--:-- --:--:--   820\n",
      "  0     0    0     0    0     0      0      0 --:--:-- --:--:-- --:--:--     0\n",
      "100 73.8M  100 73.8M    0     0   114M      0 --:--:-- --:--:-- --:--:--  114M\n",
      "Selecting previously unselected package quarto.\n",
      "(Reading database ... 78769 files and directories currently installed.)\n",
      "Preparing to unpack quarto-linux-amd64.deb ...\n",
      "Unpacking quarto (1.2.475) ...\n",
      "Setting up quarto (1.2.475) ...\n"
     ]
    }
   ],
   "source": [
    "!pip install -qU nbdev\n",
    "!nbdev_install_quarto"
   ]
  },
  {
   "cell_type": "code",
   "execution_count": 2,
   "id": "43a6ea40-36f8-49f9-9797-5328c0d41d49",
   "metadata": {
    "tags": []
   },
   "outputs": [
    {
     "name": "stdout",
     "output_type": "stream",
     "text": [
      "\u001b[33mWARNING: Running pip as the 'root' user can result in broken permissions and conflicting behaviour with the system package manager. It is recommended to use a virtual environment instead: https://pip.pypa.io/warnings/venv\u001b[0m\u001b[33m\n",
      "\u001b[0m"
     ]
    }
   ],
   "source": [
    "!pip install -q ."
   ]
  },
  {
   "cell_type": "code",
   "execution_count": 3,
   "id": "cbd50ea6-8d87-441d-8b58-22db3e1f385c",
   "metadata": {},
   "outputs": [
    {
     "name": "stdout",
     "output_type": "stream",
     "text": [
      "/notebooks/tools\n"
     ]
    }
   ],
   "source": [
    "!pwd"
   ]
  },
  {
   "cell_type": "code",
   "execution_count": 4,
   "id": "bb93ecd8-596b-484e-8c85-51267aa13c30",
   "metadata": {},
   "outputs": [],
   "source": [
    "from tools.feature import *"
   ]
  },
  {
   "cell_type": "code",
   "execution_count": 7,
   "id": "7a53ed62-fdb8-4530-8463-34f48f09e8dd",
   "metadata": {},
   "outputs": [],
   "source": [
    "from tools.plot import *"
   ]
  },
  {
   "cell_type": "code",
   "execution_count": 5,
   "id": "52268de8-a49e-4e6b-8fb0-14ae4d5dbf6f",
   "metadata": {
    "tags": []
   },
   "outputs": [
    {
     "data": {
      "text/plain": [
       "['In',\n",
       " 'Out',\n",
       " '_',\n",
       " '__',\n",
       " '___',\n",
       " '__builtin__',\n",
       " '__builtins__',\n",
       " '__doc__',\n",
       " '__loader__',\n",
       " '__name__',\n",
       " '__package__',\n",
       " '__spec__',\n",
       " '_dh',\n",
       " '_exit_code',\n",
       " '_i',\n",
       " '_i1',\n",
       " '_i2',\n",
       " '_i3',\n",
       " '_i4',\n",
       " '_i5',\n",
       " '_ih',\n",
       " '_ii',\n",
       " '_iii',\n",
       " '_oh',\n",
       " 'exit',\n",
       " 'get_ipython',\n",
       " 'quit',\n",
       " 'smi2morgan',\n",
       " 'smi2prop']"
      ]
     },
     "execution_count": 5,
     "metadata": {},
     "output_type": "execute_result"
    }
   ],
   "source": [
    "dir()"
   ]
  },
  {
   "cell_type": "code",
   "execution_count": 9,
   "id": "da81c43f-9824-45a9-95a2-c1fbc79d7d2a",
   "metadata": {},
   "outputs": [
    {
     "name": "stdout",
     "output_type": "stream",
     "text": [
      "hello world\n"
     ]
    }
   ],
   "source": [
    "print('hello world')"
   ]
  },
  {
   "cell_type": "code",
   "execution_count": null,
   "id": "f97d6d47",
   "metadata": {},
   "outputs": [],
   "source": []
  }
 ],
 "metadata": {
  "kernelspec": {
   "display_name": "Python 3 (ipykernel)",
   "language": "python",
   "name": "python3"
  },
  "language_info": {
   "codemirror_mode": {
    "name": "ipython",
    "version": 3
   },
   "file_extension": ".py",
   "mimetype": "text/x-python",
   "name": "python",
   "nbconvert_exporter": "python",
   "pygments_lexer": "ipython3",
   "version": "3.9.13"
  }
 },
 "nbformat": 4,
 "nbformat_minor": 5
}
