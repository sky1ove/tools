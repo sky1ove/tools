{
 "cells": [
  {
   "cell_type": "code",
   "execution_count": 18,
   "id": "d5045eb8-605c-4e90-9f6d-7a2d9cec419b",
   "metadata": {
    "collapsed": true,
    "jupyter": {
     "outputs_hidden": true
    },
    "tags": []
   },
   "outputs": [],
   "source": [
    "!pip install -e '.[dev]'\n",
    "!pip install -q nbdev\n",
    "!nbdev_install_quarto"
   ]
  },
  {
   "cell_type": "code",
   "execution_count": 1,
   "id": "bb93ecd8-596b-484e-8c85-51267aa13c30",
   "metadata": {},
   "outputs": [],
   "source": [
    "from tools.func import *"
   ]
  },
  {
   "cell_type": "code",
   "execution_count": 2,
   "id": "52268de8-a49e-4e6b-8fb0-14ae4d5dbf6f",
   "metadata": {
    "collapsed": true,
    "jupyter": {
     "outputs_hidden": true
    },
    "tags": []
   },
   "outputs": [
    {
     "data": {
      "text/plain": [
       "['In',\n",
       " 'Out',\n",
       " '_',\n",
       " '__',\n",
       " '___',\n",
       " '__builtin__',\n",
       " '__builtins__',\n",
       " '__doc__',\n",
       " '__loader__',\n",
       " '__name__',\n",
       " '__package__',\n",
       " '__spec__',\n",
       " '_dh',\n",
       " '_i',\n",
       " '_i1',\n",
       " '_i2',\n",
       " '_ih',\n",
       " '_ii',\n",
       " '_iii',\n",
       " '_oh',\n",
       " 'exit',\n",
       " 'get_ipython',\n",
       " 'quit',\n",
       " 'smi2morgan',\n",
       " 'smi2prop']"
      ]
     },
     "execution_count": 2,
     "metadata": {},
     "output_type": "execute_result"
    }
   ],
   "source": [
    "dir()"
   ]
  }
 ],
 "metadata": {
  "kernelspec": {
   "display_name": "Python 3 (ipykernel)",
   "language": "python",
   "name": "python3"
  },
  "language_info": {
   "codemirror_mode": {
    "name": "ipython",
    "version": 3
   },
   "file_extension": ".py",
   "mimetype": "text/x-python",
   "name": "python",
   "nbconvert_exporter": "python",
   "pygments_lexer": "ipython3",
   "version": "3.9.13"
  }
 },
 "nbformat": 4,
 "nbformat_minor": 5
}
